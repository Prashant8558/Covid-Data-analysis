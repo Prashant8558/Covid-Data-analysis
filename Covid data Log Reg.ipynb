{
 "cells": [
  {
   "cell_type": "code",
   "execution_count": 1,
   "id": "ec3c92af",
   "metadata": {},
   "outputs": [],
   "source": [
    "# Import libraries \n",
    "import pandas as pd\n",
    "import numpy as np\n",
    "import matplotlib.pyplot as plt\n",
    "import seaborn as sns"
   ]
  },
  {
   "cell_type": "code",
   "execution_count": 2,
   "id": "fcb12c05",
   "metadata": {},
   "outputs": [
    {
     "data": {
      "text/html": [
       "<div>\n",
       "<style scoped>\n",
       "    .dataframe tbody tr th:only-of-type {\n",
       "        vertical-align: middle;\n",
       "    }\n",
       "\n",
       "    .dataframe tbody tr th {\n",
       "        vertical-align: top;\n",
       "    }\n",
       "\n",
       "    .dataframe thead th {\n",
       "        text-align: right;\n",
       "    }\n",
       "</style>\n",
       "<table border=\"1\" class=\"dataframe\">\n",
       "  <thead>\n",
       "    <tr style=\"text-align: right;\">\n",
       "      <th></th>\n",
       "      <th>cough</th>\n",
       "      <th>fever</th>\n",
       "      <th>sore_throat</th>\n",
       "      <th>shortness_of_breath</th>\n",
       "      <th>head_ache</th>\n",
       "      <th>age_60_and_above</th>\n",
       "      <th>gender</th>\n",
       "      <th>test_indication</th>\n",
       "      <th>corona_result</th>\n",
       "    </tr>\n",
       "  </thead>\n",
       "  <tbody>\n",
       "    <tr>\n",
       "      <th>0</th>\n",
       "      <td>1</td>\n",
       "      <td>1</td>\n",
       "      <td>0</td>\n",
       "      <td>0</td>\n",
       "      <td>0</td>\n",
       "      <td>Yes</td>\n",
       "      <td>male</td>\n",
       "      <td>Other</td>\n",
       "      <td>negative</td>\n",
       "    </tr>\n",
       "    <tr>\n",
       "      <th>1</th>\n",
       "      <td>0</td>\n",
       "      <td>0</td>\n",
       "      <td>0</td>\n",
       "      <td>0</td>\n",
       "      <td>0</td>\n",
       "      <td>No</td>\n",
       "      <td>male</td>\n",
       "      <td>Other</td>\n",
       "      <td>positive</td>\n",
       "    </tr>\n",
       "    <tr>\n",
       "      <th>2</th>\n",
       "      <td>0</td>\n",
       "      <td>0</td>\n",
       "      <td>0</td>\n",
       "      <td>0</td>\n",
       "      <td>0</td>\n",
       "      <td>Yes</td>\n",
       "      <td>female</td>\n",
       "      <td>Other</td>\n",
       "      <td>negative</td>\n",
       "    </tr>\n",
       "    <tr>\n",
       "      <th>3</th>\n",
       "      <td>1</td>\n",
       "      <td>0</td>\n",
       "      <td>0</td>\n",
       "      <td>0</td>\n",
       "      <td>0</td>\n",
       "      <td>No</td>\n",
       "      <td>male</td>\n",
       "      <td>Abroad</td>\n",
       "      <td>negative</td>\n",
       "    </tr>\n",
       "    <tr>\n",
       "      <th>4</th>\n",
       "      <td>0</td>\n",
       "      <td>0</td>\n",
       "      <td>0</td>\n",
       "      <td>0</td>\n",
       "      <td>0</td>\n",
       "      <td>Yes</td>\n",
       "      <td>male</td>\n",
       "      <td>Other</td>\n",
       "      <td>positive</td>\n",
       "    </tr>\n",
       "  </tbody>\n",
       "</table>\n",
       "</div>"
      ],
      "text/plain": [
       "   cough  fever  sore_throat  shortness_of_breath  head_ache age_60_and_above  \\\n",
       "0      1      1            0                    0          0              Yes   \n",
       "1      0      0            0                    0          0               No   \n",
       "2      0      0            0                    0          0              Yes   \n",
       "3      1      0            0                    0          0               No   \n",
       "4      0      0            0                    0          0              Yes   \n",
       "\n",
       "   gender test_indication corona_result  \n",
       "0    male           Other      negative  \n",
       "1    male           Other      positive  \n",
       "2  female           Other      negative  \n",
       "3    male          Abroad      negative  \n",
       "4    male           Other      positive  "
      ]
     },
     "execution_count": 2,
     "metadata": {},
     "output_type": "execute_result"
    }
   ],
   "source": [
    "# import csv file \n",
    "covid_data =pd.read_excel(r'C:\\Users\\ASUS\\Desktop\\Machine Learning\\ML assignment\\Covid_Dataset_new.xlsx')\n",
    "covid_data.head()"
   ]
  },
  {
   "cell_type": "code",
   "execution_count": 3,
   "id": "ea901c28",
   "metadata": {},
   "outputs": [
    {
     "data": {
      "text/plain": [
       "cough                   int64\n",
       "fever                   int64\n",
       "sore_throat             int64\n",
       "shortness_of_breath     int64\n",
       "head_ache               int64\n",
       "age_60_and_above       object\n",
       "gender                 object\n",
       "test_indication        object\n",
       "corona_result          object\n",
       "dtype: object"
      ]
     },
     "execution_count": 3,
     "metadata": {},
     "output_type": "execute_result"
    }
   ],
   "source": [
    "# Check dtypes \n",
    "covid_data.dtypes"
   ]
  },
  {
   "cell_type": "code",
   "execution_count": 4,
   "id": "18a7d397",
   "metadata": {},
   "outputs": [
    {
     "data": {
      "text/plain": [
       "(2137, 9)"
      ]
     },
     "execution_count": 4,
     "metadata": {},
     "output_type": "execute_result"
    }
   ],
   "source": [
    "covid_data.shape"
   ]
  },
  {
   "cell_type": "markdown",
   "id": "e96080ea-99d9-4ed9-b18f-3b006d870c09",
   "metadata": {},
   "source": [
    "# EDA "
   ]
  },
  {
   "cell_type": "code",
   "execution_count": 5,
   "id": "72ff97b5",
   "metadata": {},
   "outputs": [],
   "source": [
    "def create_piechart(data, column):\n",
    "    \n",
    "\n",
    "    labels = list(data[column].value_counts().to_dict().keys())\n",
    "    sizes = list(data[column].value_counts().to_dict().values())\n",
    "    \n",
    "    plt.pie(sizes, \n",
    "            labels=labels, \n",
    "            autopct='%1.2f%%',\n",
    "            shadow=False, \n",
    "            startangle=45)\n",
    "    \n",
    "    plt.axis('equal')  \n",
    "    plt.title(\"Piechart - {}\".format(column))\n",
    "    plt.show()"
   ]
  },
  {
   "cell_type": "code",
   "execution_count": 6,
   "id": "a5fe869a",
   "metadata": {},
   "outputs": [
    {
     "data": {
      "image/png": "[encoded data removed]",
      "text/plain": [
       "<Figure size 500x700 with 1 Axes>"
      ]
     },
     "metadata": {},
     "output_type": "display_data"
    }
   ],
   "source": [
    "plt.figure(figsize=(5,7))\n",
    "create_piechart(covid_data, [\"corona_result\"])\n"
   ]
  },
  {
   "cell_type": "code",
   "execution_count": 7,
   "id": "ac4bf7e8",
   "metadata": {},
   "outputs": [
    {
     "data": {
      "image/png": "[encoded data removed]",
      "text/plain": [
       "<Figure size 500x700 with 1 Axes>"
      ]
     },
     "metadata": {},
     "output_type": "display_data"
    }
   ],
   "source": [
    "plt.figure(figsize=(5,7))\n",
    "create_piechart(covid_data, [\"age_60_and_above\"])"
   ]
  },
  {
   "cell_type": "code",
   "execution_count": 8,
   "id": "feb12893",
   "metadata": {},
   "outputs": [
    {
     "data": {
      "image/png": "[encoded data removed]",
      "text/plain": [
       "<Figure size 640x480 with 1 Axes>"
      ]
     },
     "metadata": {},
     "output_type": "display_data"
    }
   ],
   "source": [
    "sns.countplot(x=covid_data[\"gender\"])\n",
    "plt.show()"
   ]
  },
  {
   "cell_type": "code",
   "execution_count": null,
   "id": "71231c52",
   "metadata": {},
   "outputs": [],
   "source": []
  },
  {
   "cell_type": "code",
   "execution_count": 9,
   "id": "047dfebe",
   "metadata": {},
   "outputs": [
    {
     "data": {
      "image/png": "[encoded data removed]",
      "text/plain": [
       "<Figure size 640x480 with 1 Axes>"
      ]
     },
     "metadata": {},
     "output_type": "display_data"
    }
   ],
   "source": [
    "covid_data.boxplot() \n",
    "plt.show() "
   ]
  },
  {
   "cell_type": "code",
   "execution_count": 10,
   "id": "5ab472e9",
   "metadata": {},
   "outputs": [
    {
     "data": {
      "text/html": [
       "<div>\n",
       "<style scoped>\n",
       "    .dataframe tbody tr th:only-of-type {\n",
       "        vertical-align: middle;\n",
       "    }\n",
       "\n",
       "    .dataframe tbody tr th {\n",
       "        vertical-align: top;\n",
       "    }\n",
       "\n",
       "    .dataframe thead th {\n",
       "        text-align: right;\n",
       "    }\n",
       "</style>\n",
       "<table border=\"1\" class=\"dataframe\">\n",
       "  <thead>\n",
       "    <tr style=\"text-align: right;\">\n",
       "      <th></th>\n",
       "      <th>cough</th>\n",
       "      <th>fever</th>\n",
       "      <th>sore_throat</th>\n",
       "      <th>shortness_of_breath</th>\n",
       "      <th>head_ache</th>\n",
       "      <th>age_60_and_above</th>\n",
       "      <th>gender</th>\n",
       "      <th>test_indication</th>\n",
       "      <th>corona_result</th>\n",
       "    </tr>\n",
       "  </thead>\n",
       "  <tbody>\n",
       "    <tr>\n",
       "      <th>0</th>\n",
       "      <td>1</td>\n",
       "      <td>1</td>\n",
       "      <td>0</td>\n",
       "      <td>0</td>\n",
       "      <td>0</td>\n",
       "      <td>Yes</td>\n",
       "      <td>male</td>\n",
       "      <td>Other</td>\n",
       "      <td>negative</td>\n",
       "    </tr>\n",
       "    <tr>\n",
       "      <th>1</th>\n",
       "      <td>0</td>\n",
       "      <td>0</td>\n",
       "      <td>0</td>\n",
       "      <td>0</td>\n",
       "      <td>0</td>\n",
       "      <td>No</td>\n",
       "      <td>male</td>\n",
       "      <td>Other</td>\n",
       "      <td>positive</td>\n",
       "    </tr>\n",
       "    <tr>\n",
       "      <th>2</th>\n",
       "      <td>0</td>\n",
       "      <td>0</td>\n",
       "      <td>0</td>\n",
       "      <td>0</td>\n",
       "      <td>0</td>\n",
       "      <td>Yes</td>\n",
       "      <td>female</td>\n",
       "      <td>Other</td>\n",
       "      <td>negative</td>\n",
       "    </tr>\n",
       "    <tr>\n",
       "      <th>3</th>\n",
       "      <td>1</td>\n",
       "      <td>0</td>\n",
       "      <td>0</td>\n",
       "      <td>0</td>\n",
       "      <td>0</td>\n",
       "      <td>No</td>\n",
       "      <td>male</td>\n",
       "      <td>Abroad</td>\n",
       "      <td>negative</td>\n",
       "    </tr>\n",
       "    <tr>\n",
       "      <th>4</th>\n",
       "      <td>0</td>\n",
       "      <td>0</td>\n",
       "      <td>0</td>\n",
       "      <td>0</td>\n",
       "      <td>0</td>\n",
       "      <td>Yes</td>\n",
       "      <td>male</td>\n",
       "      <td>Other</td>\n",
       "      <td>positive</td>\n",
       "    </tr>\n",
       "  </tbody>\n",
       "</table>\n",
       "</div>"
      ],
      "text/plain": [
       "   cough  fever  sore_throat  shortness_of_breath  head_ache age_60_and_above  \\\n",
       "0      1      1            0                    0          0              Yes   \n",
       "1      0      0            0                    0          0               No   \n",
       "2      0      0            0                    0          0              Yes   \n",
       "3      1      0            0                    0          0               No   \n",
       "4      0      0            0                    0          0              Yes   \n",
       "\n",
       "   gender test_indication corona_result  \n",
       "0    male           Other      negative  \n",
       "1    male           Other      positive  \n",
       "2  female           Other      negative  \n",
       "3    male          Abroad      negative  \n",
       "4    male           Other      positive  "
      ]
     },
     "execution_count": 10,
     "metadata": {},
     "output_type": "execute_result"
    }
   ],
   "source": [
    "# create a copy of a dataframe \n",
    "covid_df_rev = pd.DataFrame.copy(covid_data)\n",
    "covid_df_rev.head()"
   ]
  },
  {
   "cell_type": "code",
   "execution_count": 11,
   "id": "79e7c5b8",
   "metadata": {},
   "outputs": [],
   "source": [
    "#covid_df_rev.duplicated().sum()"
   ]
  },
  {
   "cell_type": "code",
   "execution_count": 12,
   "id": "1efbc76f",
   "metadata": {},
   "outputs": [],
   "source": [
    "#covid_df_rev.drop_duplicates(inplace=True)\n",
    "#covid_df_rev.shape"
   ]
  },
  {
   "cell_type": "code",
   "execution_count": 13,
   "id": "fe2f5b8b",
   "metadata": {},
   "outputs": [
    {
     "data": {
      "text/plain": [
       "cough                   0\n",
       "fever                   0\n",
       "sore_throat             0\n",
       "shortness_of_breath     0\n",
       "head_ache               0\n",
       "age_60_and_above        0\n",
       "gender                 16\n",
       "test_indication         0\n",
       "corona_result           0\n",
       "dtype: int64"
      ]
     },
     "execution_count": 13,
     "metadata": {},
     "output_type": "execute_result"
    }
   ],
   "source": [
    "# Check null values \n",
    "covid_df_rev.isnull().sum()"
   ]
  },
  {
   "cell_type": "code",
   "execution_count": 14,
   "id": "e9a762c0",
   "metadata": {},
   "outputs": [],
   "source": [
    "#covid_df_rev.dropna(inplace=True)"
   ]
  },
  {
   "cell_type": "code",
   "execution_count": 15,
   "id": "efb5fe29",
   "metadata": {},
   "outputs": [
    {
     "data": {
      "text/plain": [
       "cough                   0\n",
       "fever                   0\n",
       "sore_throat             0\n",
       "shortness_of_breath     0\n",
       "head_ache               0\n",
       "age_60_and_above        0\n",
       "gender                 16\n",
       "test_indication         0\n",
       "corona_result           0\n",
       "dtype: int64"
      ]
     },
     "execution_count": 15,
     "metadata": {},
     "output_type": "execute_result"
    }
   ],
   "source": [
    "covid_df_rev.isnull().sum()"
   ]
  },
  {
   "cell_type": "code",
   "execution_count": 16,
   "id": "ae53c34b",
   "metadata": {},
   "outputs": [
    {
     "data": {
      "text/plain": [
       "(2137, 9)"
      ]
     },
     "execution_count": 16,
     "metadata": {},
     "output_type": "execute_result"
    }
   ],
   "source": [
    "covid_df_rev.shape"
   ]
  },
  {
   "cell_type": "code",
   "execution_count": null,
   "id": "85066eff",
   "metadata": {},
   "outputs": [],
   "source": []
  },
  {
   "cell_type": "code",
   "execution_count": 17,
   "id": "20355e0e",
   "metadata": {},
   "outputs": [],
   "source": [
    "def missing_data(df):\n",
    "    total = df.isnull().sum().sort_values(ascending=False)\n",
    "    percent = round((df.isnull().sum()/df.isnull().count()  * 100).sort_values(ascending=False),2)\n",
    "    data_type = df.dtypes\n",
    "    missing_data = pd.concat([total,percent,data_type],axis=1,keys=['Total','Percent','Data_Type']).sort_values(\"Total\", axis = 0, ascending = False)\n",
    "    \n",
    "    return missing_data"
   ]
  },
  {
   "cell_type": "code",
   "execution_count": 18,
   "id": "cf3a8c6a",
   "metadata": {},
   "outputs": [],
   "source": [
    "covid_df_rev=covid_df_rev.replace(['?'], np.nan)"
   ]
  },
  {
   "cell_type": "code",
   "execution_count": 19,
   "id": "d6d8a21c",
   "metadata": {},
   "outputs": [
    {
     "data": {
      "text/html": [
       "<div>\n",
       "<style scoped>\n",
       "    .dataframe tbody tr th:only-of-type {\n",
       "        vertical-align: middle;\n",
       "    }\n",
       "\n",
       "    .dataframe tbody tr th {\n",
       "        vertical-align: top;\n",
       "    }\n",
       "\n",
       "    .dataframe thead th {\n",
       "        text-align: right;\n",
       "    }\n",
       "</style>\n",
       "<table border=\"1\" class=\"dataframe\">\n",
       "  <thead>\n",
       "    <tr style=\"text-align: right;\">\n",
       "      <th></th>\n",
       "      <th>Total</th>\n",
       "      <th>Percent</th>\n",
       "      <th>Data_Type</th>\n",
       "    </tr>\n",
       "  </thead>\n",
       "  <tbody>\n",
       "    <tr>\n",
       "      <th>gender</th>\n",
       "      <td>16</td>\n",
       "      <td>0.75</td>\n",
       "      <td>object</td>\n",
       "    </tr>\n",
       "    <tr>\n",
       "      <th>cough</th>\n",
       "      <td>0</td>\n",
       "      <td>0.00</td>\n",
       "      <td>int64</td>\n",
       "    </tr>\n",
       "    <tr>\n",
       "      <th>fever</th>\n",
       "      <td>0</td>\n",
       "      <td>0.00</td>\n",
       "      <td>int64</td>\n",
       "    </tr>\n",
       "    <tr>\n",
       "      <th>sore_throat</th>\n",
       "      <td>0</td>\n",
       "      <td>0.00</td>\n",
       "      <td>int64</td>\n",
       "    </tr>\n",
       "    <tr>\n",
       "      <th>shortness_of_breath</th>\n",
       "      <td>0</td>\n",
       "      <td>0.00</td>\n",
       "      <td>int64</td>\n",
       "    </tr>\n",
       "    <tr>\n",
       "      <th>head_ache</th>\n",
       "      <td>0</td>\n",
       "      <td>0.00</td>\n",
       "      <td>int64</td>\n",
       "    </tr>\n",
       "    <tr>\n",
       "      <th>age_60_and_above</th>\n",
       "      <td>0</td>\n",
       "      <td>0.00</td>\n",
       "      <td>object</td>\n",
       "    </tr>\n",
       "    <tr>\n",
       "      <th>test_indication</th>\n",
       "      <td>0</td>\n",
       "      <td>0.00</td>\n",
       "      <td>object</td>\n",
       "    </tr>\n",
       "    <tr>\n",
       "      <th>corona_result</th>\n",
       "      <td>0</td>\n",
       "      <td>0.00</td>\n",
       "      <td>object</td>\n",
       "    </tr>\n",
       "  </tbody>\n",
       "</table>\n",
       "</div>"
      ],
      "text/plain": [
       "                     Total  Percent Data_Type\n",
       "gender                  16     0.75    object\n",
       "cough                    0     0.00     int64\n",
       "fever                    0     0.00     int64\n",
       "sore_throat              0     0.00     int64\n",
       "shortness_of_breath      0     0.00     int64\n",
       "head_ache                0     0.00     int64\n",
       "age_60_and_above         0     0.00    object\n",
       "test_indication          0     0.00    object\n",
       "corona_result            0     0.00    object"
      ]
     },
     "execution_count": 19,
     "metadata": {},
     "output_type": "execute_result"
    }
   ],
   "source": [
    "missing_data(covid_df_rev)"
   ]
  },
  {
   "cell_type": "code",
   "execution_count": 20,
   "id": "f76132a7",
   "metadata": {},
   "outputs": [
    {
     "data": {
      "text/plain": [
       "<Axes: >"
      ]
     },
     "execution_count": 20,
     "metadata": {},
     "output_type": "execute_result"
    },
    {
     "data": {
      "image/png": "[encoded data removed]",
      "text/plain": [
       "<Figure size 1000x500 with 1 Axes>"
      ]
     },
     "metadata": {},
     "output_type": "display_data"
    }
   ],
   "source": [
    "plt.figure(figsize=(10,5))\n",
    "sns.heatmap(covid_df_rev.isnull(), \n",
    "            cbar = False, \n",
    "            yticklabels=False, \n",
    "            cmap=\"magma\" )"
   ]
  },
  {
   "cell_type": "code",
   "execution_count": 21,
   "id": "93a7a1bc",
   "metadata": {},
   "outputs": [
    {
     "data": {
      "text/plain": [
       "cough                   int64\n",
       "fever                   int64\n",
       "sore_throat             int64\n",
       "shortness_of_breath     int64\n",
       "head_ache               int64\n",
       "age_60_and_above       object\n",
       "gender                 object\n",
       "test_indication        object\n",
       "corona_result          object\n",
       "dtype: object"
      ]
     },
     "execution_count": 21,
     "metadata": {},
     "output_type": "execute_result"
    }
   ],
   "source": [
    "covid_df_rev.dtypes"
   ]
  },
  {
   "cell_type": "code",
   "execution_count": 22,
   "id": "7bb6a76d",
   "metadata": {},
   "outputs": [],
   "source": [
    "# Dummy variables using pd.get_dummies()"
   ]
  },
  {
   "cell_type": "code",
   "execution_count": 23,
   "id": "88b5e971",
   "metadata": {},
   "outputs": [
    {
     "data": {
      "text/html": [
       "<div>\n",
       "<style scoped>\n",
       "    .dataframe tbody tr th:only-of-type {\n",
       "        vertical-align: middle;\n",
       "    }\n",
       "\n",
       "    .dataframe tbody tr th {\n",
       "        vertical-align: top;\n",
       "    }\n",
       "\n",
       "    .dataframe thead th {\n",
       "        text-align: right;\n",
       "    }\n",
       "</style>\n",
       "<table border=\"1\" class=\"dataframe\">\n",
       "  <thead>\n",
       "    <tr style=\"text-align: right;\">\n",
       "      <th></th>\n",
       "      <th>cough</th>\n",
       "      <th>fever</th>\n",
       "      <th>sore_throat</th>\n",
       "      <th>shortness_of_breath</th>\n",
       "      <th>head_ache</th>\n",
       "      <th>age_60_and_above_Yes</th>\n",
       "      <th>gender_male</th>\n",
       "      <th>test_indication_Contact with confirmed</th>\n",
       "      <th>test_indication_Other</th>\n",
       "      <th>corona_result_positive</th>\n",
       "    </tr>\n",
       "  </thead>\n",
       "  <tbody>\n",
       "    <tr>\n",
       "      <th>0</th>\n",
       "      <td>1</td>\n",
       "      <td>1</td>\n",
       "      <td>0</td>\n",
       "      <td>0</td>\n",
       "      <td>0</td>\n",
       "      <td>True</td>\n",
       "      <td>True</td>\n",
       "      <td>False</td>\n",
       "      <td>True</td>\n",
       "      <td>False</td>\n",
       "    </tr>\n",
       "    <tr>\n",
       "      <th>1</th>\n",
       "      <td>0</td>\n",
       "      <td>0</td>\n",
       "      <td>0</td>\n",
       "      <td>0</td>\n",
       "      <td>0</td>\n",
       "      <td>False</td>\n",
       "      <td>True</td>\n",
       "      <td>False</td>\n",
       "      <td>True</td>\n",
       "      <td>True</td>\n",
       "    </tr>\n",
       "    <tr>\n",
       "      <th>2</th>\n",
       "      <td>0</td>\n",
       "      <td>0</td>\n",
       "      <td>0</td>\n",
       "      <td>0</td>\n",
       "      <td>0</td>\n",
       "      <td>True</td>\n",
       "      <td>False</td>\n",
       "      <td>False</td>\n",
       "      <td>True</td>\n",
       "      <td>False</td>\n",
       "    </tr>\n",
       "    <tr>\n",
       "      <th>3</th>\n",
       "      <td>1</td>\n",
       "      <td>0</td>\n",
       "      <td>0</td>\n",
       "      <td>0</td>\n",
       "      <td>0</td>\n",
       "      <td>False</td>\n",
       "      <td>True</td>\n",
       "      <td>False</td>\n",
       "      <td>False</td>\n",
       "      <td>False</td>\n",
       "    </tr>\n",
       "    <tr>\n",
       "      <th>4</th>\n",
       "      <td>0</td>\n",
       "      <td>0</td>\n",
       "      <td>0</td>\n",
       "      <td>0</td>\n",
       "      <td>0</td>\n",
       "      <td>True</td>\n",
       "      <td>True</td>\n",
       "      <td>False</td>\n",
       "      <td>True</td>\n",
       "      <td>True</td>\n",
       "    </tr>\n",
       "  </tbody>\n",
       "</table>\n",
       "</div>"
      ],
      "text/plain": [
       "   cough  fever  sore_throat  shortness_of_breath  head_ache  \\\n",
       "0      1      1            0                    0          0   \n",
       "1      0      0            0                    0          0   \n",
       "2      0      0            0                    0          0   \n",
       "3      1      0            0                    0          0   \n",
       "4      0      0            0                    0          0   \n",
       "\n",
       "   age_60_and_above_Yes  gender_male  test_indication_Contact with confirmed  \\\n",
       "0                  True         True                                   False   \n",
       "1                 False         True                                   False   \n",
       "2                  True        False                                   False   \n",
       "3                 False         True                                   False   \n",
       "4                  True         True                                   False   \n",
       "\n",
       "   test_indication_Other  corona_result_positive  \n",
       "0                   True                   False  \n",
       "1                   True                    True  \n",
       "2                   True                   False  \n",
       "3                  False                   False  \n",
       "4                   True                    True  "
      ]
     },
     "execution_count": 23,
     "metadata": {},
     "output_type": "execute_result"
    }
   ],
   "source": [
    "# Create dummy variables \n",
    "covid_df_rev_new =pd.get_dummies(covid_df_rev,drop_first = True)\n",
    "covid_df_rev_new .head()                                    ## drop_first = True---- first value delete hoga"
   ]
  },
  {
   "cell_type": "code",
   "execution_count": 24,
   "id": "bac62c1a",
   "metadata": {},
   "outputs": [
    {
     "data": {
      "text/plain": [
       "(2137, 10)"
      ]
     },
     "execution_count": 24,
     "metadata": {},
     "output_type": "execute_result"
    }
   ],
   "source": [
    "covid_df_rev_new.shape"
   ]
  },
  {
   "cell_type": "code",
   "execution_count": 25,
   "id": "578f2863",
   "metadata": {},
   "outputs": [
    {
     "data": {
      "text/plain": [
       "cough                                     int64\n",
       "fever                                     int64\n",
       "sore_throat                               int64\n",
       "shortness_of_breath                       int64\n",
       "head_ache                                 int64\n",
       "age_60_and_above_Yes                       bool\n",
       "gender_male                                bool\n",
       "test_indication_Contact with confirmed     bool\n",
       "test_indication_Other                      bool\n",
       "corona_result_positive                     bool\n",
       "dtype: object"
      ]
     },
     "execution_count": 25,
     "metadata": {},
     "output_type": "execute_result"
    }
   ],
   "source": [
    "covid_df_rev_new.dtypes"
   ]
  },
  {
   "cell_type": "markdown",
   "id": "aae5c507",
   "metadata": {},
   "source": [
    "# Lable Encoder"
   ]
  },
  {
   "cell_type": "code",
   "execution_count": 26,
   "id": "d8f6b326",
   "metadata": {},
   "outputs": [
    {
     "data": {
      "text/plain": [
       "['age_60_and_above', 'gender', 'test_indication', 'corona_result']"
      ]
     },
     "execution_count": 26,
     "metadata": {},
     "output_type": "execute_result"
    }
   ],
   "source": [
    "colname=[]\n",
    "for x in covid_df_rev.columns:\n",
    "    \n",
    "    if covid_df_rev[x].dtype=='object':\n",
    "        \n",
    "        colname.append(x)\n",
    "colname"
   ]
  },
  {
   "cell_type": "code",
   "execution_count": 27,
   "id": "f4fdc547",
   "metadata": {},
   "outputs": [
    {
     "data": {
      "text/plain": [
       "\"\\n    le_name_mapping = dict(zip(le.classes_, le.transform(le.classes_)))\\n    print('Feature', x)\\n    print('mapping', le_name_mapping)\\n\""
      ]
     },
     "execution_count": 27,
     "metadata": {},
     "output_type": "execute_result"
    }
   ],
   "source": [
    "# For preprocessing the data\n",
    "from sklearn.preprocessing import LabelEncoder\n",
    " \n",
    "le=LabelEncoder()\n",
    " \n",
    "for x in colname:\n",
    "    covid_df_rev[x]=le.fit_transform(covid_df_rev[x])\n",
    "\"\"\"\n",
    "    le_name_mapping = dict(zip(le.classes_, le.transform(le.classes_)))\n",
    "    print('Feature', x)\n",
    "    print('mapping', le_name_mapping)\n",
    "\"\"\""
   ]
  },
  {
   "cell_type": "code",
   "execution_count": 28,
   "id": "60e77428",
   "metadata": {},
   "outputs": [
    {
     "data": {
      "text/html": [
       "<div>\n",
       "<style scoped>\n",
       "    .dataframe tbody tr th:only-of-type {\n",
       "        vertical-align: middle;\n",
       "    }\n",
       "\n",
       "    .dataframe tbody tr th {\n",
       "        vertical-align: top;\n",
       "    }\n",
       "\n",
       "    .dataframe thead th {\n",
       "        text-align: right;\n",
       "    }\n",
       "</style>\n",
       "<table border=\"1\" class=\"dataframe\">\n",
       "  <thead>\n",
       "    <tr style=\"text-align: right;\">\n",
       "      <th></th>\n",
       "      <th>cough</th>\n",
       "      <th>fever</th>\n",
       "      <th>sore_throat</th>\n",
       "      <th>shortness_of_breath</th>\n",
       "      <th>head_ache</th>\n",
       "      <th>age_60_and_above</th>\n",
       "      <th>gender</th>\n",
       "      <th>test_indication</th>\n",
       "      <th>corona_result</th>\n",
       "    </tr>\n",
       "  </thead>\n",
       "  <tbody>\n",
       "    <tr>\n",
       "      <th>0</th>\n",
       "      <td>1</td>\n",
       "      <td>1</td>\n",
       "      <td>0</td>\n",
       "      <td>0</td>\n",
       "      <td>0</td>\n",
       "      <td>1</td>\n",
       "      <td>1</td>\n",
       "      <td>2</td>\n",
       "      <td>0</td>\n",
       "    </tr>\n",
       "    <tr>\n",
       "      <th>1</th>\n",
       "      <td>0</td>\n",
       "      <td>0</td>\n",
       "      <td>0</td>\n",
       "      <td>0</td>\n",
       "      <td>0</td>\n",
       "      <td>0</td>\n",
       "      <td>1</td>\n",
       "      <td>2</td>\n",
       "      <td>1</td>\n",
       "    </tr>\n",
       "    <tr>\n",
       "      <th>2</th>\n",
       "      <td>0</td>\n",
       "      <td>0</td>\n",
       "      <td>0</td>\n",
       "      <td>0</td>\n",
       "      <td>0</td>\n",
       "      <td>1</td>\n",
       "      <td>0</td>\n",
       "      <td>2</td>\n",
       "      <td>0</td>\n",
       "    </tr>\n",
       "    <tr>\n",
       "      <th>3</th>\n",
       "      <td>1</td>\n",
       "      <td>0</td>\n",
       "      <td>0</td>\n",
       "      <td>0</td>\n",
       "      <td>0</td>\n",
       "      <td>0</td>\n",
       "      <td>1</td>\n",
       "      <td>0</td>\n",
       "      <td>0</td>\n",
       "    </tr>\n",
       "    <tr>\n",
       "      <th>4</th>\n",
       "      <td>0</td>\n",
       "      <td>0</td>\n",
       "      <td>0</td>\n",
       "      <td>0</td>\n",
       "      <td>0</td>\n",
       "      <td>1</td>\n",
       "      <td>1</td>\n",
       "      <td>2</td>\n",
       "      <td>1</td>\n",
       "    </tr>\n",
       "  </tbody>\n",
       "</table>\n",
       "</div>"
      ],
      "text/plain": [
       "   cough  fever  sore_throat  shortness_of_breath  head_ache  \\\n",
       "0      1      1            0                    0          0   \n",
       "1      0      0            0                    0          0   \n",
       "2      0      0            0                    0          0   \n",
       "3      1      0            0                    0          0   \n",
       "4      0      0            0                    0          0   \n",
       "\n",
       "   age_60_and_above  gender  test_indication  corona_result  \n",
       "0                 1       1                2              0  \n",
       "1                 0       1                2              1  \n",
       "2                 1       0                2              0  \n",
       "3                 0       1                0              0  \n",
       "4                 1       1                2              1  "
      ]
     },
     "execution_count": 28,
     "metadata": {},
     "output_type": "execute_result"
    }
   ],
   "source": [
    "covid_df_rev.head()\n",
    "    #0-- <=50k\n",
    "    #1--  >50k"
   ]
  },
  {
   "cell_type": "code",
   "execution_count": 29,
   "id": "635454cd",
   "metadata": {},
   "outputs": [
    {
     "data": {
      "text/plain": [
       "cough                  int64\n",
       "fever                  int64\n",
       "sore_throat            int64\n",
       "shortness_of_breath    int64\n",
       "head_ache              int64\n",
       "age_60_and_above       int32\n",
       "gender                 int32\n",
       "test_indication        int32\n",
       "corona_result          int32\n",
       "dtype: object"
      ]
     },
     "execution_count": 29,
     "metadata": {},
     "output_type": "execute_result"
    }
   ],
   "source": [
    "covid_df_rev.dtypes"
   ]
  },
  {
   "cell_type": "code",
   "execution_count": 30,
   "id": "77c06f7b",
   "metadata": {},
   "outputs": [],
   "source": [
    "X= covid_df_rev.values[:,0:-1]   \n",
    "Y= covid_df_rev.values[:,-1]"
   ]
  },
  {
   "cell_type": "code",
   "execution_count": 31,
   "id": "cf93521a",
   "metadata": {},
   "outputs": [
    {
     "name": "stdout",
     "output_type": "stream",
     "text": [
      "[[1 1 0 ... 1 1 2]\n",
      " [0 0 0 ... 0 1 2]\n",
      " [0 0 0 ... 1 0 2]\n",
      " ...\n",
      " [0 0 0 ... 1 1 2]\n",
      " [0 0 0 ... 0 1 2]\n",
      " [0 0 0 ... 1 0 2]]\n"
     ]
    }
   ],
   "source": [
    "print(X)"
   ]
  },
  {
   "cell_type": "code",
   "execution_count": 32,
   "id": "f7def580",
   "metadata": {},
   "outputs": [
    {
     "name": "stdout",
     "output_type": "stream",
     "text": [
      "[0 1 0 ... 0 0 0]\n"
     ]
    }
   ],
   "source": [
    "print(Y)"
   ]
  },
  {
   "cell_type": "code",
   "execution_count": 33,
   "id": "430a0722",
   "metadata": {},
   "outputs": [
    {
     "name": "stdout",
     "output_type": "stream",
     "text": [
      "(2137, 8)\n",
      "(2137,)\n"
     ]
    }
   ],
   "source": [
    "print(X.shape)\n",
    "print(Y.shape)"
   ]
  },
  {
   "cell_type": "code",
   "execution_count": 34,
   "id": "53322686",
   "metadata": {},
   "outputs": [],
   "source": [
    "from sklearn.preprocessing import StandardScaler\n",
    "scaler = StandardScaler()\n",
    "scaler.fit(X)\n",
    "X = scaler.transform(X)"
   ]
  },
  {
   "cell_type": "code",
   "execution_count": 35,
   "id": "6e775b1e",
   "metadata": {},
   "outputs": [
    {
     "name": "stdout",
     "output_type": "stream",
     "text": [
      "[[ 1.17574901  1.63071965 -0.19975654 ...  1.08860993  0.95286273\n",
      "   0.73815524]\n",
      " [-0.85052166 -0.61322619 -0.19975654 ... -0.91860268  0.95286273\n",
      "   0.73815524]\n",
      " [-0.85052166 -0.61322619 -0.19975654 ...  1.08860993 -0.99014076\n",
      "   0.73815524]\n",
      " ...\n",
      " [-0.85052166 -0.61322619 -0.19975654 ...  1.08860993  0.95286273\n",
      "   0.73815524]\n",
      " [-0.85052166 -0.61322619 -0.19975654 ... -0.91860268  0.95286273\n",
      "   0.73815524]\n",
      " [-0.85052166 -0.61322619 -0.19975654 ...  1.08860993 -0.99014076\n",
      "   0.73815524]]\n"
     ]
    }
   ],
   "source": [
    "print(X)"
   ]
  },
  {
   "cell_type": "markdown",
   "id": "9caa4b86-3859-43eb-9c1e-aba22cf6caba",
   "metadata": {},
   "source": [
    "# Running a basic modal"
   ]
  },
  {
   "cell_type": "code",
   "execution_count": 37,
   "id": "9043d2ca",
   "metadata": {},
   "outputs": [],
   "source": [
    "from sklearn.model_selection import train_test_split\n",
    "#split the data into test and train \n",
    "X_train, X_test, Y_train, Y_test = train_test_split(X, Y, test_size=0.3,random_state=10)"
   ]
  },
  {
   "cell_type": "code",
   "execution_count": 38,
   "id": "35915af5",
   "metadata": {},
   "outputs": [
    {
     "name": "stdout",
     "output_type": "stream",
     "text": [
      "(1495, 8)\n",
      "(1495,)\n",
      "(642, 8)\n",
      "(642,)\n"
     ]
    }
   ],
   "source": [
    "print(X_train.shape)\n",
    "print(Y_train.shape)\n",
    "print(X_test.shape)\n",
    "print(Y_test.shape)"
   ]
  },
  {
   "cell_type": "code",
   "execution_count": 39,
   "id": "907b5fc0",
   "metadata": {},
   "outputs": [
    {
     "name": "stdout",
     "output_type": "stream",
     "text": [
      "[0.46383072]\n",
      "[[-0.14758664  0.45503857  0.65225561  0.9929507   1.23056512 -0.30826067\n",
      "   0.07608695 -0.12123831]]\n"
     ]
    }
   ],
   "source": [
    "from sklearn.linear_model import LogisticRegression\n",
    "# create a modal\n",
    "classifier = LogisticRegression()\n",
    "#fitting training data to the model \n",
    "classifier.fit(X_train,Y_train)\n",
    "print(classifier.intercept_)\n",
    "print(classifier.coef_)"
   ]
  },
  {
   "cell_type": "code",
   "execution_count": 40,
   "id": "bd353d98",
   "metadata": {},
   "outputs": [
    {
     "name": "stdout",
     "output_type": "stream",
     "text": [
      "[1 1 0 1 1 1 0 1 1 0 0 1 1 0 0 0 0 0 1 0 0 1 0 1 1 0 0 1 0 0 0 0 0 0 1 0 0\n",
      " 0 0 0 1 0 0 0 0 0 1 0 0 0 0 0 0 1 0 0 0 0 1 0 1 1 1 1 1 0 0 1 1 0 1 0 0 0\n",
      " 1 0 0 1 1 0 0 0 0 1 0 0 0 0 0 1 0 1 0 1 0 0 1 1 0 0 1 0 1 1 1 0 0 0 1 0 1\n",
      " 0 0 1 0 1 1 0 0 1 0 0 0 1 0 0 1 0 0 1 0 0 0 1 0 0 0 1 0 0 1 0 0 1 1 1 0 0\n",
      " 1 0 0 0 0 1 1 1 1 0 1 0 1 0 1 1 0 0 0 0 0 0 0 0 0 1 1 0 0 1 0 0 1 0 1 0 0\n",
      " 1 0 0 0 0 1 1 0 0 1 0 1 0 0 0 0 1 0 0 0 0 0 0 0 0 0 0 0 0 1 1 1 0 0 0 0 1\n",
      " 0 0 0 1 0 1 0 0 1 0 1 0 0 0 1 0 0 0 0 0 0 1 0 0 0 0 0 0 0 0 0 0 0 0 0 0 1\n",
      " 0 1 0 1 1 0 1 1 0 1 0 1 0 1 0 0 0 0 0 1 0 1 1 0 0 0 1 1 0 0 1 0 0 1 0 1 0\n",
      " 0 1 0 0 0 0 1 1 0 0 0 0 1 0 0 0 0 0 1 1 0 0 1 1 0 0 1 1 1 1 0 1 0 1 0 0 0\n",
      " 0 1 1 0 1 1 1 0 1 0 1 0 0 1 1 0 1 0 0 1 0 0 0 0 0 1 0 0 0 0 0 1 0 0 0 0 0\n",
      " 0 0 1 1 1 1 0 0 0 0 0 0 1 0 0 1 0 1 0 1 0 1 0 1 0 0 1 1 0 0 0 1 1 1 1 0 1\n",
      " 1 0 1 1 0 0 1 1 1 0 1 0 0 0 0 0 1 1 0 0 1 1 1 0 0 1 0 0 1 1 0 0 0 1 1 0 0\n",
      " 1 0 1 0 0 0 1 0 0 0 1 1 0 1 0 1 0 0 0 0 1 1 1 0 0 1 1 0 1 1 0 0 0 1 0 0 1\n",
      " 1 1 0 0 1 1 0 0 1 0 1 0 1 1 1 0 0 0 0 1 0 0 0 0 1 1 0 1 0 1 0 0 0 0 0 1 1\n",
      " 0 0 0 1 1 0 0 1 0 0 0 1 1 0 1 0 1 0 0 0 0 0 0 1 0 0 1 0 0 0 0 1 0 0 1 1 0\n",
      " 0 0 0 0 0 0 0 1 1 0 0 1 0 0 0 1 0 0 0 1 1 1 0 0 0 0 0 1 0 1 0 0 1 0 0 0 0\n",
      " 1 1 0 0 0 0 1 1 0 0 1 1 0 0 0 1 0 1 0 1 1 1 0 0 1 0 0 0 1 0 0 0 1 0 0 0 0\n",
      " 0 0 0 0 1 1 1 0 0 0 1 0 1]\n"
     ]
    }
   ],
   "source": [
    "Y_pred = classifier.predict(X_test)\n",
    "print(Y_pred)"
   ]
  },
  {
   "cell_type": "code",
   "execution_count": 41,
   "id": "f55f9d19",
   "metadata": {},
   "outputs": [
    {
     "data": {
      "text/plain": [
       "array([[0.00651803, 0.99348197],\n",
       "       [0.2759303 , 0.7240697 ],\n",
       "       [0.51408191, 0.48591809],\n",
       "       ...,\n",
       "       [0.27028744, 0.72971256],\n",
       "       [0.54776765, 0.45223235],\n",
       "       [0.30376629, 0.69623371]])"
      ]
     },
     "execution_count": 41,
     "metadata": {},
     "output_type": "execute_result"
    }
   ],
   "source": [
    "Y_pred_prob=classifier.predict_proba(X_test)\n",
    "Y_pred_prob"
   ]
  },
  {
   "cell_type": "code",
   "execution_count": 42,
   "id": "3fb667e5",
   "metadata": {},
   "outputs": [
    {
     "name": "stdout",
     "output_type": "stream",
     "text": [
      "[(1, 1), (0, 1), (1, 0), (0, 1), (1, 1), (1, 1), (0, 0), (1, 1), (0, 1), (0, 0), (1, 0), (1, 1), (1, 1), (0, 0), (1, 0), (0, 0), (0, 0), (1, 0), (0, 1), (0, 0), (1, 0), (1, 1), (0, 0), (1, 1), (0, 1), (0, 0), (0, 0), (1, 1), (1, 0), (0, 0), (0, 0), (0, 0), (0, 0), (0, 0), (1, 1), (1, 0), (0, 0), (0, 0), (1, 0), (0, 0), (1, 1), (0, 0), (1, 0), (1, 0), (0, 0), (0, 0), (1, 1), (1, 0), (0, 0), (0, 0), (1, 0), (1, 0), (0, 0), (1, 1), (1, 0), (1, 0), (1, 0), (0, 0), (1, 1), (0, 0), (0, 1), (0, 1), (0, 1), (1, 1), (1, 1), (0, 0), (0, 0), (1, 1), (1, 1), (0, 0), (1, 1), (0, 0), (1, 0), (1, 0), (1, 1), (1, 0), (1, 0), (1, 1), (1, 1), (1, 0), (1, 0), (1, 0), (0, 0), (1, 1), (1, 0), (1, 0), (0, 0), (1, 0), (1, 0), (1, 1), (1, 0), (1, 1), (0, 0), (1, 1), (0, 0), (0, 0), (1, 1), (1, 1), (0, 0), (1, 0), (1, 1), (1, 0), (1, 1), (1, 1), (0, 1), (0, 0), (1, 0), (0, 0), (0, 1), (0, 0), (0, 1), (1, 0), (1, 0), (1, 1), (0, 0), (1, 1), (1, 1), (0, 0), (0, 0), (1, 1), (1, 0), (1, 0), (0, 0), (1, 1), (0, 0), (0, 0), (1, 1), (1, 0), (1, 0), (1, 1), (0, 0), (0, 0), (0, 0), (0, 1), (0, 0), (1, 0), (0, 0), (0, 1), (1, 0), (0, 0), (1, 1), (0, 0), (0, 0), (0, 1), (1, 1), (1, 1), (0, 0), (0, 0), (1, 1), (1, 0), (0, 0), (0, 0), (0, 0), (0, 1), (1, 1), (1, 1), (1, 1), (0, 0), (1, 1), (1, 0), (1, 1), (0, 0), (1, 1), (1, 1), (1, 0), (0, 0), (1, 0), (0, 0), (1, 0), (1, 0), (0, 0), (1, 0), (0, 0), (1, 1), (0, 1), (0, 0), (0, 0), (1, 1), (1, 0), (1, 0), (1, 1), (1, 0), (1, 1), (1, 0), (1, 0), (1, 1), (0, 0), (0, 0), (0, 0), (1, 0), (0, 1), (0, 1), (0, 0), (0, 0), (1, 1), (1, 0), (1, 1), (0, 0), (0, 0), (1, 0), (0, 0), (0, 1), (0, 0), (0, 0), (1, 0), (0, 0), (0, 0), (1, 0), (0, 0), (0, 0), (1, 0), (0, 0), (0, 0), (1, 0), (1, 1), (1, 1), (1, 1), (1, 0), (0, 0), (1, 0), (1, 0), (1, 1), (1, 0), (0, 0), (0, 0), (0, 1), (0, 0), (1, 1), (0, 0), (0, 0), (0, 1), (0, 0), (1, 1), (0, 0), (0, 0), (1, 0), (0, 1), (0, 0), (0, 0), (1, 0), (1, 0), (0, 0), (0, 0), (1, 1), (1, 0), (0, 0), (1, 0), (1, 0), (0, 0), (0, 0), (0, 0), (0, 0), (1, 0), (0, 0), (0, 0), (1, 0), (1, 0), (0, 0), (1, 1), (1, 0), (1, 1), (1, 0), (0, 1), (1, 1), (1, 0), (0, 1), (1, 1), (0, 0), (1, 1), (0, 0), (1, 1), (1, 0), (1, 1), (1, 0), (0, 0), (0, 0), (0, 0), (0, 0), (0, 1), (1, 0), (1, 1), (1, 1), (0, 0), (1, 0), (0, 0), (1, 1), (1, 1), (0, 0), (1, 0), (1, 1), (0, 0), (1, 0), (1, 1), (0, 0), (1, 1), (1, 0), (0, 0), (1, 1), (0, 0), (1, 0), (0, 0), (1, 0), (0, 1), (1, 1), (0, 0), (0, 0), (1, 0), (0, 0), (1, 1), (1, 0), (1, 0), (1, 0), (0, 0), (0, 0), (1, 1), (0, 1), (1, 0), (1, 0), (1, 1), (1, 1), (0, 0), (1, 0), (1, 1), (1, 1), (1, 1), (0, 1), (0, 0), (1, 1), (0, 0), (1, 1), (0, 0), (0, 0), (1, 0), (1, 0), (0, 1), (1, 1), (0, 0), (1, 1), (1, 1), (1, 1), (0, 0), (1, 1), (0, 0), (1, 1), (0, 0), (0, 0), (1, 1), (1, 1), (1, 0), (1, 1), (0, 0), (0, 0), (1, 1), (0, 0), (0, 0), (1, 0), (0, 0), (0, 0), (0, 1), (0, 0), (0, 0), (0, 0), (0, 0), (1, 0), (1, 1), (0, 0), (0, 0), (0, 0), (0, 0), (0, 0), (0, 0), (1, 0), (1, 1), (1, 1), (0, 1), (1, 1), (1, 0), (0, 0), (1, 0), (0, 0), (0, 0), (0, 0), (1, 1), (0, 0), (1, 0), (1, 1), (0, 0), (1, 1), (0, 0), (1, 1), (1, 0), (1, 1), (0, 0), (1, 1), (0, 0), (0, 0), (1, 1), (0, 1), (0, 0), (0, 0), (1, 0), (1, 1), (0, 1), (1, 1), (1, 1), (1, 0), (1, 1), (1, 1), (0, 0), (0, 1), (1, 1), (0, 0), (0, 0), (1, 1), (1, 1), (1, 1), (0, 0), (1, 1), (0, 0), (1, 0), (0, 0), (0, 0), (0, 0), (1, 1), (0, 1), (1, 0), (0, 0), (1, 1), (1, 1), (1, 1), (1, 0), (1, 0), (1, 1), (0, 0), (1, 0), (0, 1), (1, 1), (1, 0), (0, 0), (0, 0), (1, 1), (1, 1), (0, 0), (0, 0), (1, 1), (1, 0), (1, 1), (1, 0), (0, 0), (1, 0), (1, 1), (0, 0), (1, 0), (1, 0), (1, 1), (1, 1), (0, 0), (1, 1), (1, 0), (1, 1), (1, 0), (0, 0), (0, 0), (0, 0), (1, 1), (0, 1), (1, 1), (0, 0), (0, 0), (1, 1), (1, 1), (1, 0), (1, 1), (1, 1), (1, 0), (0, 0), (0, 0), (1, 1), (1, 0), (1, 0), (1, 1), (1, 1), (0, 1), (1, 0), (0, 0), (0, 1), (1, 1), (1, 0), (0, 0), (1, 1), (0, 0), (1, 1), (0, 0), (0, 1), (1, 1), (1, 1), (0, 0), (0, 0), (1, 0), (1, 0), (1, 1), (1, 0), (1, 0), (1, 0), (0, 0), (1, 1), (1, 1), (0, 0), (1, 1), (1, 0), (1, 1), (1, 0), (0, 0), (0, 0), (0, 0), (1, 0), (1, 1), (1, 1), (0, 0), (1, 0), (0, 0), (1, 1), (1, 1), (0, 0), (0, 0), (1, 1), (0, 0), (0, 0), (1, 0), (0, 1), (1, 1), (0, 0), (1, 1), (1, 0), (1, 1), (0, 0), (0, 0), (0, 0), (1, 0), (1, 0), (1, 0), (1, 1), (1, 0), (1, 0), (1, 1), (1, 0), (0, 0), (0, 0), (0, 0), (0, 1), (1, 0), (0, 0), (0, 1), (1, 1), (1, 0), (1, 0), (0, 0), (0, 0), (1, 0), (1, 0), (0, 0), (0, 0), (1, 1), (1, 1), (0, 0), (1, 0), (1, 1), (1, 0), (0, 0), (0, 0), (1, 1), (1, 0), (0, 0), (1, 0), (1, 1), (1, 1), (1, 1), (0, 0), (1, 0), (0, 0), (1, 0), (0, 0), (1, 1), (1, 0), (0, 1), (1, 0), (1, 0), (1, 1), (1, 0), (0, 0), (0, 0), (0, 0), (1, 1), (1, 1), (0, 0), (1, 0), (0, 0), (0, 0), (1, 1), (1, 1), (0, 0), (1, 0), (1, 1), (1, 1), (0, 0), (1, 0), (0, 0), (1, 1), (0, 0), (1, 1), (0, 0), (0, 1), (1, 1), (1, 1), (0, 0), (0, 0), (1, 1), (0, 0), (1, 0), (1, 0), (1, 1), (0, 0), (1, 0), (0, 0), (1, 1), (0, 0), (0, 0), (0, 0), (1, 0), (0, 0), (1, 0), (0, 0), (1, 0), (0, 1), (0, 1), (0, 1), (1, 0), (0, 0), (0, 0), (1, 1), (1, 0), (1, 1)]\n"
     ]
    }
   ],
   "source": [
    "print(list(zip(Y_test,Y_pred)))"
   ]
  },
  {
   "cell_type": "markdown",
   "id": "f27c4e6e-fd4a-49f6-894f-3c2b8c8b29ae",
   "metadata": {},
   "source": [
    "# Check Classification Report "
   ]
  },
  {
   "cell_type": "code",
   "execution_count": 43,
   "id": "37abdff6",
   "metadata": {},
   "outputs": [
    {
     "name": "stdout",
     "output_type": "stream",
     "text": [
      "[[242  48]\n",
      " [164 188]]\n",
      "Classification report: \n",
      "              precision    recall  f1-score   support\n",
      "\n",
      "           0       0.60      0.83      0.70       290\n",
      "           1       0.80      0.53      0.64       352\n",
      "\n",
      "    accuracy                           0.67       642\n",
      "   macro avg       0.70      0.68      0.67       642\n",
      "weighted avg       0.71      0.67      0.66       642\n",
      "\n",
      "Accuracy of the model:  0.6697819314641744\n"
     ]
    }
   ],
   "source": [
    "from sklearn.metrics import confusion_matrix, accuracy_score, classification_report\n",
    " \n",
    "cfm=confusion_matrix(Y_test,Y_pred)\n",
    "print(cfm)\n",
    " \n",
    "print(\"Classification report: \")\n",
    " \n",
    "print(classification_report(Y_test,Y_pred))\n",
    " \n",
    "acc=accuracy_score(Y_test, Y_pred)\n",
    "print(\"Accuracy of the model: \",acc)"
   ]
  },
  {
   "cell_type": "markdown",
   "id": "cf6bc50b-baca-4c35-911c-76c39beadafe",
   "metadata": {},
   "source": [
    "# Adjusting the threshold"
   ]
  },
  {
   "cell_type": "code",
   "execution_count": 45,
   "id": "4a1dfb7e",
   "metadata": {
    "scrolled": true
   },
   "outputs": [
    {
     "name": "stdout",
     "output_type": "stream",
     "text": [
      "[[0.00651803 0.99348197]\n",
      " [0.2759303  0.7240697 ]\n",
      " [0.51408191 0.48591809]\n",
      " ...\n",
      " [0.27028744 0.72971256]\n",
      " [0.54776765 0.45223235]\n",
      " [0.30376629 0.69623371]]\n"
     ]
    }
   ],
   "source": [
    "# store the predicted probabilities\n",
    "y_pred_prob = classifier.predict_proba(X_test)\n",
    "print(y_pred_prob)"
   ]
  },
  {
   "cell_type": "code",
   "execution_count": 46,
   "id": "92b67db0",
   "metadata": {},
   "outputs": [
    {
     "name": "stdout",
     "output_type": "stream",
     "text": [
      "[1, 1, 1, 1, 1, 1, 0, 1, 1, 0, 1, 1, 1, 0, 0, 0, 0, 0, 1, 0, 1, 1, 0, 1, 1, 0, 0, 1, 0, 0, 0, 0, 0, 0, 1, 0, 0, 0, 0, 1, 1, 1, 0, 0, 1, 0, 1, 0, 0, 0, 0, 1, 0, 1, 0, 1, 0, 0, 1, 0, 1, 1, 1, 1, 1, 1, 0, 1, 1, 0, 1, 0, 1, 0, 1, 0, 0, 1, 1, 0, 1, 0, 0, 1, 0, 0, 0, 0, 1, 1, 0, 1, 0, 1, 0, 0, 1, 1, 0, 1, 1, 0, 1, 1, 1, 0, 0, 0, 1, 0, 1, 1, 0, 1, 0, 1, 1, 0, 0, 1, 0, 0, 0, 1, 0, 0, 1, 0, 0, 1, 1, 0, 0, 1, 1, 1, 0, 1, 1, 1, 1, 0, 0, 1, 1, 1, 1, 0, 1, 0, 0, 0, 0, 1, 1, 1, 1, 1, 1, 0, 1, 0, 1, 1, 1, 0, 1, 0, 0, 1, 0, 1, 0, 1, 1, 0, 0, 1, 1, 0, 1, 0, 1, 0, 0, 1, 0, 0, 0, 0, 1, 1, 0, 0, 1, 1, 1, 1, 0, 0, 0, 1, 0, 0, 0, 1, 0, 0, 0, 0, 0, 0, 0, 0, 1, 1, 1, 0, 1, 0, 0, 1, 0, 1, 0, 1, 0, 1, 0, 0, 1, 0, 1, 0, 1, 0, 1, 0, 0, 0, 0, 0, 0, 1, 0, 0, 0, 1, 0, 1, 1, 0, 1, 1, 0, 0, 0, 0, 1, 0, 1, 0, 1, 1, 0, 1, 1, 0, 1, 1, 1, 0, 1, 0, 1, 0, 0, 0, 1, 0, 1, 1, 1, 0, 0, 1, 1, 0, 1, 1, 0, 0, 1, 0, 1, 1, 0, 1, 0, 0, 0, 0, 1, 1, 0, 0, 0, 0, 1, 0, 0, 0, 0, 1, 1, 1, 0, 0, 1, 1, 0, 1, 1, 1, 1, 1, 0, 1, 0, 1, 0, 1, 1, 0, 1, 1, 0, 1, 1, 1, 0, 1, 0, 1, 0, 1, 1, 1, 0, 1, 0, 0, 1, 0, 0, 0, 0, 0, 1, 1, 0, 0, 0, 0, 1, 1, 0, 0, 0, 0, 1, 1, 1, 1, 1, 1, 1, 0, 1, 0, 0, 0, 1, 0, 0, 1, 0, 1, 0, 1, 0, 1, 1, 1, 0, 0, 1, 1, 0, 0, 0, 1, 1, 1, 1, 1, 1, 1, 0, 1, 1, 0, 1, 1, 1, 1, 1, 1, 0, 0, 0, 0, 1, 1, 1, 0, 1, 1, 1, 1, 0, 1, 1, 0, 0, 1, 1, 0, 0, 1, 1, 1, 0, 0, 1, 1, 1, 1, 0, 1, 1, 0, 1, 1, 1, 1, 1, 1, 0, 1, 1, 1, 0, 0, 1, 1, 1, 1, 0, 1, 1, 0, 1, 1, 1, 0, 0, 1, 0, 1, 1, 1, 1, 1, 0, 1, 1, 0, 0, 1, 0, 1, 1, 1, 1, 1, 0, 0, 0, 0, 1, 0, 1, 0, 0, 1, 1, 0, 1, 1, 1, 0, 0, 0, 0, 1, 1, 1, 0, 1, 0, 1, 1, 1, 0, 1, 0, 0, 0, 1, 1, 0, 1, 0, 1, 0, 0, 0, 0, 0, 0, 1, 0, 0, 1, 1, 0, 0, 0, 1, 0, 0, 1, 1, 1, 1, 1, 0, 0, 1, 0, 0, 1, 1, 0, 0, 1, 0, 0, 0, 1, 0, 0, 1, 1, 1, 1, 0, 0, 0, 0, 0, 1, 0, 1, 1, 0, 1, 0, 0, 0, 0, 1, 1, 0, 0, 0, 0, 1, 1, 0, 0, 1, 1, 0, 0, 0, 1, 0, 1, 0, 1, 1, 1, 0, 0, 1, 0, 0, 0, 1, 0, 0, 1, 1, 0, 0, 0, 0, 0, 0, 1, 0, 1, 1, 1, 0, 1, 0, 1, 0, 1]\n"
     ]
    }
   ],
   "source": [
    "y_pred_class=[]\n",
    "for value in y_pred_prob[:,1]:\n",
    "    if value > 0.46:\n",
    "        y_pred_class.append(1)\n",
    "    else:\n",
    "        y_pred_class.append(0)\n",
    "print(y_pred_class)"
   ]
  },
  {
   "cell_type": "code",
   "execution_count": 47,
   "id": "2aa083a1",
   "metadata": {},
   "outputs": [
    {
     "name": "stdout",
     "output_type": "stream",
     "text": [
      "[[201  89]\n",
      " [116 236]]\n",
      "Accuracy of the model:  0.6806853582554517\n",
      "              precision    recall  f1-score   support\n",
      "\n",
      "           0       0.63      0.69      0.66       290\n",
      "           1       0.73      0.67      0.70       352\n",
      "\n",
      "    accuracy                           0.68       642\n",
      "   macro avg       0.68      0.68      0.68       642\n",
      "weighted avg       0.68      0.68      0.68       642\n",
      "\n"
     ]
    }
   ],
   "source": [
    "from sklearn.metrics import confusion_matrix,accuracy_score,classification_report\n",
    "cfm=confusion_matrix(Y_test,y_pred_class)\n",
    "print(cfm)\n",
    "acc=accuracy_score(Y_test, y_pred_class)\n",
    "\n",
    "print(\"Accuracy of the model: \",acc)\n",
    "print(classification_report(Y_test, y_pred_class))"
   ]
  },
  {
   "cell_type": "code",
   "execution_count": 48,
   "id": "ae1b4aff",
   "metadata": {},
   "outputs": [
    {
     "name": "stdout",
     "output_type": "stream",
     "text": [
      "Errors at threshold  0.4 : 193  , type 2 error : 54  , type 1 error: 139\n",
      "Errors at threshold  0.41000000000000003 : 193  , type 2 error : 54  , type 1 error: 139\n",
      "Errors at threshold  0.42000000000000004 : 206  , type 2 error : 84  , type 1 error: 122\n",
      "Errors at threshold  0.43000000000000005 : 206  , type 2 error : 84  , type 1 error: 122\n",
      "Errors at threshold  0.44000000000000006 : 206  , type 2 error : 84  , type 1 error: 122\n",
      "Errors at threshold  0.45000000000000007 : 214  , type 2 error : 103  , type 1 error: 111\n",
      "Errors at threshold  0.4600000000000001 : 205  , type 2 error : 116  , type 1 error: 89\n",
      "Errors at threshold  0.4700000000000001 : 205  , type 2 error : 116  , type 1 error: 89\n",
      "Errors at threshold  0.4800000000000001 : 210  , type 2 error : 121  , type 1 error: 89\n",
      "Errors at threshold  0.4900000000000001 : 228  , type 2 error : 162  , type 1 error: 66\n",
      "Errors at threshold  0.5000000000000001 : 212  , type 2 error : 164  , type 1 error: 48\n",
      "Errors at threshold  0.5100000000000001 : 212  , type 2 error : 164  , type 1 error: 48\n",
      "Errors at threshold  0.5200000000000001 : 227  , type 2 error : 183  , type 1 error: 44\n",
      "Errors at threshold  0.5300000000000001 : 240  , type 2 error : 196  , type 1 error: 44\n",
      "Errors at threshold  0.5400000000000001 : 237  , type 2 error : 197  , type 1 error: 40\n",
      "Errors at threshold  0.5500000000000002 : 236  , type 2 error : 198  , type 1 error: 38\n",
      "Errors at threshold  0.5600000000000002 : 239  , type 2 error : 202  , type 1 error: 37\n",
      "Errors at threshold  0.5700000000000002 : 237  , type 2 error : 203  , type 1 error: 34\n",
      "Errors at threshold  0.5800000000000002 : 237  , type 2 error : 203  , type 1 error: 34\n",
      "Errors at threshold  0.5900000000000002 : 249  , type 2 error : 216  , type 1 error: 33\n",
      "Errors at threshold  0.6000000000000002 : 248  , type 2 error : 217  , type 1 error: 31\n"
     ]
    }
   ],
   "source": [
    "for a in np.arange(0.4,0.61,0.01):\n",
    "    predict_mine = np.where(y_pred_prob[:,1] > a, 1, 0)\n",
    "    cfm=confusion_matrix(Y_test, predict_mine)\n",
    "    total_err=round(cfm[0,1]+cfm[1,0])\n",
    "#print(\"Threshold: {} TotalER: {}  Type 2: {}   Type 1: {}\".format(round(a,2), total_err, cfm[1,0], cfm[0,1]))    \n",
    "    print(\"Errors at threshold \", a, \":\",total_err, \" , type 2 error :\", \n",
    "         cfm[1,0],\" , type 1 error:\", cfm[0,1]) "
   ]
  },
  {
   "cell_type": "markdown",
   "id": "6bc93276-81dd-4ece-93f5-0e4d0b5db254",
   "metadata": {},
   "source": [
    "# AUC and ROC Curve"
   ]
  },
  {
   "cell_type": "code",
   "execution_count": 50,
   "id": "5cbe4520",
   "metadata": {},
   "outputs": [
    {
     "name": "stdout",
     "output_type": "stream",
     "text": [
      "0.7538891065830722\n"
     ]
    }
   ],
   "source": [
    "from sklearn import metrics\n",
    "\n",
    "fpr, tpr, z = metrics.roc_curve(Y_test, y_pred_prob[:,1])   ## z area under the curvee black line\n",
    "auc = metrics.auc(fpr,tpr)\n",
    "\n",
    "print(auc) "
   ]
  },
  {
   "cell_type": "code",
   "execution_count": 51,
   "id": "d4dacc91",
   "metadata": {},
   "outputs": [
    {
     "name": "stdout",
     "output_type": "stream",
     "text": [
      "0.7538891065830722\n"
     ]
    },
    {
     "data": {
      "image/png": "[encoded data removed]",
      "text/plain": [
       "<Figure size 640x480 with 1 Axes>"
      ]
     },
     "metadata": {},
     "output_type": "display_data"
    }
   ],
   "source": [
    "from sklearn import metrics\n",
    "fpr, tpr, z = metrics.roc_curve(Y_test, y_pred_prob[:,1])\n",
    "auc = metrics.auc(fpr,tpr)\n",
    "print(auc)\n",
    "\n",
    "import matplotlib.pyplot as plt\n",
    "plt.title('Receiver Operating Characteristic')\n",
    "plt.plot(fpr,tpr, 'black', label = auc)\n",
    "plt.legend(loc = 'lower right')\n",
    "plt.plot([0, 1], [0, 1],'b--')\n",
    "#plt.plot(fpr_new,tpr_new, 'green')\n",
    "plt.xlim([0, 1])\n",
    "plt.ylim([0, 1])\n",
    "plt.xlabel('False Positive Rate')\n",
    "plt.ylabel('True Positive Rate')\n",
    " \n",
    "plt.show()"
   ]
  },
  {
   "cell_type": "code",
   "execution_count": null,
   "id": "326fa8b9",
   "metadata": {},
   "outputs": [],
   "source": []
  },
  {
   "cell_type": "markdown",
   "id": "d3f0a350-5bc5-421f-a36a-c1c114b91ada",
   "metadata": {},
   "source": [
    "# models------------- [dt,rf,et,knn,logreg]"
   ]
  },
  {
   "cell_type": "code",
   "execution_count": 52,
   "id": "a3ec3c37",
   "metadata": {},
   "outputs": [],
   "source": [
    "from sklearn.tree import DecisionTreeClassifier\n",
    "from sklearn.svm import SVC\n",
    "from sklearn.neighbors import KNeighborsClassifier\n",
    "from sklearn.linear_model import LogisticRegression\n",
    "from sklearn.ensemble import RandomForestClassifier\n",
    "from sklearn.ensemble import ExtraTreesClassifier\n",
    " \n",
    "# first, initialize the classificators\n",
    "dt= DecisionTreeClassifier(random_state=10) # using the random state for reproducibility\n",
    "rf= RandomForestClassifier(n_estimators=100, random_state=10)\n",
    "et=ExtraTreesClassifier(n_estimators=100,random_state=10, bootstrap=True,n_jobs=-1)\n",
    "knn= KNeighborsClassifier(n_neighbors=5,metric='euclidean')\n",
    "#svm= SVC(kernel=\"rbf\", gamma=0.1, C=90,random_state=10)#c= 1 par 87 something tha but c=90 kiya to 98.55 ho gaya\n",
    "logreg=LogisticRegression(multi_class=\"multinomial\",random_state=10)"
   ]
  },
  {
   "cell_type": "code",
   "execution_count": 53,
   "id": "16b14cbb",
   "metadata": {},
   "outputs": [],
   "source": [
    "models= [dt,rf,et,knn,logreg]"
   ]
  },
  {
   "cell_type": "code",
   "execution_count": 54,
   "id": "4dbdef40",
   "metadata": {},
   "outputs": [
    {
     "name": "stdout",
     "output_type": "stream",
     "text": [
      "[[240  50]\n",
      " [ 96 256]]\n",
      "The accuracy of the  DecisionTreeClassifier  model is  77.25856697819314\n",
      "Classification report:\n",
      "               precision    recall  f1-score   support\n",
      "\n",
      "           0       0.71      0.83      0.77       290\n",
      "           1       0.84      0.73      0.78       352\n",
      "\n",
      "    accuracy                           0.77       642\n",
      "   macro avg       0.78      0.78      0.77       642\n",
      "weighted avg       0.78      0.77      0.77       642\n",
      "\n",
      "\n",
      "\n",
      "[[240  50]\n",
      " [ 93 259]]\n",
      "The accuracy of the  RandomForestClassifier  model is  77.72585669781932\n",
      "Classification report:\n",
      "               precision    recall  f1-score   support\n",
      "\n",
      "           0       0.72      0.83      0.77       290\n",
      "           1       0.84      0.74      0.78       352\n",
      "\n",
      "    accuracy                           0.78       642\n",
      "   macro avg       0.78      0.78      0.78       642\n",
      "weighted avg       0.79      0.78      0.78       642\n",
      "\n",
      "\n",
      "\n",
      "[[240  50]\n",
      " [ 93 259]]\n",
      "The accuracy of the  ExtraTreesClassifier  model is  77.72585669781932\n",
      "Classification report:\n",
      "               precision    recall  f1-score   support\n",
      "\n",
      "           0       0.72      0.83      0.77       290\n",
      "           1       0.84      0.74      0.78       352\n",
      "\n",
      "    accuracy                           0.78       642\n",
      "   macro avg       0.78      0.78      0.78       642\n",
      "weighted avg       0.79      0.78      0.78       642\n",
      "\n",
      "\n",
      "\n",
      "[[250  40]\n",
      " [119 233]]\n",
      "The accuracy of the  KNeighborsClassifier  model is  75.23364485981308\n",
      "Classification report:\n",
      "               precision    recall  f1-score   support\n",
      "\n",
      "           0       0.68      0.86      0.76       290\n",
      "           1       0.85      0.66      0.75       352\n",
      "\n",
      "    accuracy                           0.75       642\n",
      "   macro avg       0.77      0.76      0.75       642\n",
      "weighted avg       0.77      0.75      0.75       642\n",
      "\n",
      "\n",
      "\n",
      "[[242  48]\n",
      " [164 188]]\n",
      "The accuracy of the  LogisticRegression  model is  66.97819314641744\n",
      "Classification report:\n",
      "               precision    recall  f1-score   support\n",
      "\n",
      "           0       0.60      0.83      0.70       290\n",
      "           1       0.80      0.53      0.64       352\n",
      "\n",
      "    accuracy                           0.67       642\n",
      "   macro avg       0.70      0.68      0.67       642\n",
      "weighted avg       0.71      0.67      0.66       642\n",
      "\n",
      "\n",
      "\n"
     ]
    }
   ],
   "source": [
    "from sklearn.metrics import confusion_matrix, accuracy_score,classification_report\n",
    " \n",
    "for model in models:\n",
    "    model.fit(X_train, Y_train) # fit the model\n",
    "    Y_pred= model.predict(X_test) # then predict on the test set\n",
    "    accuracy= accuracy_score(Y_test, Y_pred) \n",
    "    clf_report= classification_report(Y_test, Y_pred) \n",
    "    print(confusion_matrix(Y_test,Y_pred))\n",
    "    print(\"The accuracy of the \",type(model).__name__, \" model is \", accuracy*100 )\n",
    "    print(\"Classification report:\\n\", clf_report)\n",
    "    print(\"\\n\")"
   ]
  },
  {
   "cell_type": "markdown",
   "id": "f2394e79",
   "metadata": {},
   "source": [
    "# feature selection with extraa trees"
   ]
  },
  {
   "cell_type": "code",
   "execution_count": 55,
   "id": "cd519982",
   "metadata": {},
   "outputs": [],
   "source": [
    "from sklearn.ensemble import ExtraTreesClassifier\n",
    " \n",
    "model_EXT=ExtraTreesClassifier( random_state=10, bootstrap=True)          # fix parameter should be passed here\n",
    "## parameter for trial and error should be passed here \n",
    " \n",
    "parameter_space = {\n",
    "    'n_estimators':[100,300,500,1000],                             #np.arange(100, 1001,50),\n",
    "    'max_depth':[10,15, 8, 12],\n",
    "    'min_samples_leaf':[3,4,5,6,7]\n",
    "    }\n",
    "from sklearn.model_selection import GridSearchCV                        ## randomizedSearchCV bhi use kr skte h grid ke jagah \n",
    "clf = GridSearchCV(model_EXT, parameter_space, n_jobs=-1, cv=5) "
   ]
  },
  {
   "cell_type": "code",
   "execution_count": 56,
   "id": "8ebfca61",
   "metadata": {},
   "outputs": [
    {
     "data": {
      "text/html": [
       "<style>#sk-container-id-1 {color: black;background-color: white;}#sk-container-id-1 pre{padding: 0;}#sk-container-id-1 div.sk-toggleable {background-color: white;}#sk-container-id-1 label.sk-toggleable__label {cursor: pointer;display: block;width: 100%;margin-bottom: 0;padding: 0.3em;box-sizing: border-box;text-align: center;}#sk-container-id-1 label.sk-toggleable__label-arrow:before {content: \"▸\";float: left;margin-right: 0.25em;color: #696969;}#sk-container-id-1 label.sk-toggleable__label-arrow:hover:before {color: black;}#sk-container-id-1 div.sk-estimator:hover label.sk-toggleable__label-arrow:before {color: black;}#sk-container-id-1 div.sk-toggleable__content {max-height: 0;max-width: 0;overflow: hidden;text-align: left;background-color: #f0f8ff;}#sk-container-id-1 div.sk-toggleable__content pre {margin: 0.2em;color: black;border-radius: 0.25em;background-color: #f0f8ff;}#sk-container-id-1 input.sk-toggleable__control:checked~div.sk-toggleable__content {max-height: 200px;max-width: 100%;overflow: auto;}#sk-container-id-1 input.sk-toggleable__control:checked~label.sk-toggleable__label-arrow:before {content: \"▾\";}#sk-container-id-1 div.sk-estimator input.sk-toggleable__control:checked~label.sk-toggleable__label {background-color: #d4ebff;}#sk-container-id-1 div.sk-label input.sk-toggleable__control:checked~label.sk-toggleable__label {background-color: #d4ebff;}#sk-container-id-1 input.sk-hidden--visually {border: 0;clip: rect(1px 1px 1px 1px);clip: rect(1px, 1px, 1px, 1px);height: 1px;margin: -1px;overflow: hidden;padding: 0;position: absolute;width: 1px;}#sk-container-id-1 div.sk-estimator {font-family: monospace;background-color: #f0f8ff;border: 1px dotted black;border-radius: 0.25em;box-sizing: border-box;margin-bottom: 0.5em;}#sk-container-id-1 div.sk-estimator:hover {background-color: #d4ebff;}#sk-container-id-1 div.sk-parallel-item::after {content: \"\";width: 100%;border-bottom: 1px solid gray;flex-grow: 1;}#sk-container-id-1 div.sk-label:hover label.sk-toggleable__label {background-color: #d4ebff;}#sk-container-id-1 div.sk-serial::before {content: \"\";position: absolute;border-left: 1px solid gray;box-sizing: border-box;top: 0;bottom: 0;left: 50%;z-index: 0;}#sk-container-id-1 div.sk-serial {display: flex;flex-direction: column;align-items: center;background-color: white;padding-right: 0.2em;padding-left: 0.2em;position: relative;}#sk-container-id-1 div.sk-item {position: relative;z-index: 1;}#sk-container-id-1 div.sk-parallel {display: flex;align-items: stretch;justify-content: center;background-color: white;position: relative;}#sk-container-id-1 div.sk-item::before, #sk-container-id-1 div.sk-parallel-item::before {content: \"\";position: absolute;border-left: 1px solid gray;box-sizing: border-box;top: 0;bottom: 0;left: 50%;z-index: -1;}#sk-container-id-1 div.sk-parallel-item {display: flex;flex-direction: column;z-index: 1;position: relative;background-color: white;}#sk-container-id-1 div.sk-parallel-item:first-child::after {align-self: flex-end;width: 50%;}#sk-container-id-1 div.sk-parallel-item:last-child::after {align-self: flex-start;width: 50%;}#sk-container-id-1 div.sk-parallel-item:only-child::after {width: 0;}#sk-container-id-1 div.sk-dashed-wrapped {border: 1px dashed gray;margin: 0 0.4em 0.5em 0.4em;box-sizing: border-box;padding-bottom: 0.4em;background-color: white;}#sk-container-id-1 div.sk-label label {font-family: monospace;font-weight: bold;display: inline-block;line-height: 1.2em;}#sk-container-id-1 div.sk-label-container {text-align: center;}#sk-container-id-1 div.sk-container {/* jupyter's `normalize.less` sets `[hidden] { display: none; }` but bootstrap.min.css set `[hidden] { display: none !important; }` so we also need the `!important` here to be able to override the default hidden behavior on the sphinx rendered scikit-learn.org. See: https://github.com/scikit-learn/scikit-learn/issues/21755 */display: inline-block !important;position: relative;}#sk-container-id-1 div.sk-text-repr-fallback {display: none;}</style><div id=\"sk-container-id-1\" class=\"sk-top-container\"><div class=\"sk-text-repr-fallback\"><pre>GridSearchCV(cv=5,\n",
       "             estimator=ExtraTreesClassifier(bootstrap=True, random_state=10),\n",
       "             n_jobs=-1,\n",
       "             param_grid={&#x27;max_depth&#x27;: [10, 15, 8, 12],\n",
       "                         &#x27;min_samples_leaf&#x27;: [3, 4, 5, 6, 7],\n",
       "                         &#x27;n_estimators&#x27;: [100, 300, 500, 1000]})</pre><b>In a Jupyter environment, please rerun this cell to show the HTML representation or trust the notebook. <br />On GitHub, the HTML representation is unable to render, please try loading this page with nbviewer.org.</b></div><div class=\"sk-container\" hidden><div class=\"sk-item sk-dashed-wrapped\"><div class=\"sk-label-container\"><div class=\"sk-label sk-toggleable\"><input class=\"sk-toggleable__control sk-hidden--visually\" id=\"sk-estimator-id-1\" type=\"checkbox\" ><label for=\"sk-estimator-id-1\" class=\"sk-toggleable__label sk-toggleable__label-arrow\">GridSearchCV</label><div class=\"sk-toggleable__content\"><pre>GridSearchCV(cv=5,\n",
       "             estimator=ExtraTreesClassifier(bootstrap=True, random_state=10),\n",
       "             n_jobs=-1,\n",
       "             param_grid={&#x27;max_depth&#x27;: [10, 15, 8, 12],\n",
       "                         &#x27;min_samples_leaf&#x27;: [3, 4, 5, 6, 7],\n",
       "                         &#x27;n_estimators&#x27;: [100, 300, 500, 1000]})</pre></div></div></div><div class=\"sk-parallel\"><div class=\"sk-parallel-item\"><div class=\"sk-item\"><div class=\"sk-label-container\"><div class=\"sk-label sk-toggleable\"><input class=\"sk-toggleable__control sk-hidden--visually\" id=\"sk-estimator-id-2\" type=\"checkbox\" ><label for=\"sk-estimator-id-2\" class=\"sk-toggleable__label sk-toggleable__label-arrow\">estimator: ExtraTreesClassifier</label><div class=\"sk-toggleable__content\"><pre>ExtraTreesClassifier(bootstrap=True, random_state=10)</pre></div></div></div><div class=\"sk-serial\"><div class=\"sk-item\"><div class=\"sk-estimator sk-toggleable\"><input class=\"sk-toggleable__control sk-hidden--visually\" id=\"sk-estimator-id-3\" type=\"checkbox\" ><label for=\"sk-estimator-id-3\" class=\"sk-toggleable__label sk-toggleable__label-arrow\">ExtraTreesClassifier</label><div class=\"sk-toggleable__content\"><pre>ExtraTreesClassifier(bootstrap=True, random_state=10)</pre></div></div></div></div></div></div></div></div></div></div>"
      ],
      "text/plain": [
       "GridSearchCV(cv=5,\n",
       "             estimator=ExtraTreesClassifier(bootstrap=True, random_state=10),\n",
       "             n_jobs=-1,\n",
       "             param_grid={'max_depth': [10, 15, 8, 12],\n",
       "                         'min_samples_leaf': [3, 4, 5, 6, 7],\n",
       "                         'n_estimators': [100, 300, 500, 1000]})"
      ]
     },
     "execution_count": 56,
     "metadata": {},
     "output_type": "execute_result"
    }
   ],
   "source": [
    "clf.fit(X_train,Y_train)"
   ]
  },
  {
   "cell_type": "code",
   "execution_count": 57,
   "id": "260ffe98",
   "metadata": {},
   "outputs": [
    {
     "name": "stdout",
     "output_type": "stream",
     "text": [
      "Best parameters found:\n",
      " {'max_depth': 10, 'min_samples_leaf': 3, 'n_estimators': 1000}\n"
     ]
    }
   ],
   "source": [
    "print('Best parameters found:\\n', clf.best_params_)"
   ]
  },
  {
   "cell_type": "code",
   "execution_count": 58,
   "id": "6ccffe00",
   "metadata": {},
   "outputs": [
    {
     "data": {
      "text/plain": [
       "0.7906354515050167"
      ]
     },
     "execution_count": 58,
     "metadata": {},
     "output_type": "execute_result"
    }
   ],
   "source": [
    "clf.best_score_"
   ]
  },
  {
   "cell_type": "code",
   "execution_count": 59,
   "id": "7eaff799",
   "metadata": {},
   "outputs": [],
   "source": [
    "Y_pred=clf.predict(X_test)"
   ]
  },
  {
   "cell_type": "code",
   "execution_count": 60,
   "id": "f40a80ba",
   "metadata": {},
   "outputs": [
    {
     "name": "stdout",
     "output_type": "stream",
     "text": [
      "[[240  50]\n",
      " [ 87 265]]\n",
      "0.7866043613707165\n",
      "              precision    recall  f1-score   support\n",
      "\n",
      "           0       0.73      0.83      0.78       290\n",
      "           1       0.84      0.75      0.79       352\n",
      "\n",
      "    accuracy                           0.79       642\n",
      "   macro avg       0.79      0.79      0.79       642\n",
      "weighted avg       0.79      0.79      0.79       642\n",
      "\n"
     ]
    }
   ],
   "source": [
    "from sklearn.metrics import confusion_matrix, accuracy_score,classification_report\n",
    " \n",
    "# confusion matrix \n",
    "\n",
    "print(confusion_matrix(Y_test,Y_pred))\n",
    "print(accuracy_score(Y_test,Y_pred)) \n",
    "print(classification_report(Y_test,Y_pred))"
   ]
  },
  {
   "cell_type": "markdown",
   "id": "1de1cb03-f48f-41de-a454-71f0f15af74c",
   "metadata": {},
   "source": [
    "# Project end here "
   ]
  },
  {
   "cell_type": "code",
   "execution_count": null,
   "id": "3f373806",
   "metadata": {},
   "outputs": [],
   "source": []
  }
 ],
 "metadata": {
  "kernelspec": {
   "display_name": "Python 3 (ipykernel)",
   "language": "python",
   "name": "python3"
  },
  "language_info": {
   "codemirror_mode": {
    "name": "ipython",
    "version": 3
   },
   "file_extension": ".py",
   "mimetype": "text/x-python",
   "name": "python",
   "nbconvert_exporter": "python",
   "pygments_lexer": "ipython3",
   "version": "3.11.7"
  }
 },
 "nbformat": 4,
 "nbformat_minor": 5
}
